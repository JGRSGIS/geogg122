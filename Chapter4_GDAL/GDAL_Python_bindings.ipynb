{
 "cells": [
  {
   "cell_type": "markdown",
   "metadata": {
    "toc": "true"
   },
   "source": [
    " # Table of Contents\n",
    "<div class=\"toc\" style=\"margin-top: 1em;\"><ul class=\"toc-item\" id=\"toc-level0\"><li><span><a href=\"http://localhost:8888/notebooks/Chapter4_GDAL/GDAL_Python_bindings.ipynb#GDAL-data-type\" data-toc-modified-id=\"GDAL-data-type-1\"><span class=\"toc-item-num\">1&nbsp;&nbsp;</span>GDAL data type</a></span><ul class=\"toc-item\"><li><span><a href=\"http://localhost:8888/notebooks/Chapter4_GDAL/GDAL_Python_bindings.ipynb#The-GeoTransform\" data-toc-modified-id=\"The-GeoTransform-1.1\"><span class=\"toc-item-num\">1.1&nbsp;&nbsp;</span>The GeoTransform</a></span><ul class=\"toc-item\"><li><span><a href=\"http://localhost:8888/notebooks/Chapter4_GDAL/GDAL_Python_bindings.ipynb#Try-it-out-in-some-other-places!\" data-toc-modified-id=\"Try-it-out-in-some-other-places!-1.1.1\"><span class=\"toc-item-num\">1.1.1&nbsp;&nbsp;</span>Try it out in some other places!</a></span></li></ul></li></ul></li><li><span><a href=\"http://localhost:8888/notebooks/Chapter4_GDAL/GDAL_Python_bindings.ipynb#The-projection\" data-toc-modified-id=\"The-projection-2\"><span class=\"toc-item-num\">2&nbsp;&nbsp;</span>The projection</a></span></li><li><span><a href=\"http://localhost:8888/notebooks/Chapter4_GDAL/GDAL_Python_bindings.ipynb#Saving-files\" data-toc-modified-id=\"Saving-files-3\"><span class=\"toc-item-num\">3&nbsp;&nbsp;</span>Saving files</a></span></li><li><span><a href=\"http://localhost:8888/notebooks/Chapter4_GDAL/GDAL_Python_bindings.ipynb#Reprojecting-things\" data-toc-modified-id=\"Reprojecting-things-4\"><span class=\"toc-item-num\">4&nbsp;&nbsp;</span>Reprojecting things</a></span></li><li><span><a href=\"http://localhost:8888/notebooks/Chapter4_GDAL/GDAL_Python_bindings.ipynb#Reprojecting-whole-rasters\" data-toc-modified-id=\"Reprojecting-whole-rasters-5\"><span class=\"toc-item-num\">5&nbsp;&nbsp;</span>Reprojecting whole rasters</a></span><ul class=\"toc-item\"><li><span><a href=\"http://localhost:8888/notebooks/Chapter4_GDAL/GDAL_Python_bindings.ipynb#Using-the-Python-bindings\" data-toc-modified-id=\"Using-the-Python-bindings-5.1\"><span class=\"toc-item-num\">5.1&nbsp;&nbsp;</span>Using the Python bindings</a></span></li><li><span><a href=\"http://localhost:8888/notebooks/Chapter4_GDAL/GDAL_Python_bindings.ipynb#Using-command-line-tools\" data-toc-modified-id=\"Using-command-line-tools-5.2\"><span class=\"toc-item-num\">5.2&nbsp;&nbsp;</span>Using command line tools</a></span></li></ul></li><li><span><a href=\"http://localhost:8888/notebooks/Chapter4_GDAL/GDAL_Python_bindings.ipynb#Creating-a-mask-from-a-vector\" data-toc-modified-id=\"Creating-a-mask-from-a-vector-6\"><span class=\"toc-item-num\">6&nbsp;&nbsp;</span>Creating a mask from a vector</a></span></li></ul></div>"
   ]
  },
  {
   "cell_type": "markdown",
   "metadata": {},
   "source": [
    "# GDAL and OGR libraries"
   ]
  },
  {
   "cell_type": "markdown",
   "metadata": {},
   "source": [
    "In the previous session, we used the GDAL library to open HDF files. GDAL is not limited to a single file format, but can actually cope with many different raster file formats semalessly. For *vector* data (i.e., data that is stored by features, each being made up of fields containing different types of information, one of them being a *geometry*, such as polygon, line or point), GDAL has a sister library called OGR. The usefulness of these two libraries is that they allow the user to deal with many of the different file formats in a consistent way. \n",
    "\n",
    "It is important to note that both GDAL and OGR come with a suite of command line tools that let you do many complex tasks on the command line directly. A listing of the GDAL command line tools is available [here](http://www.gdal.org/gdal_utilities.html), but bear in mind that many blogs etc. carry out examples of using GDAL tools in practice. For OGR, most of the library can be accessed using [ogr2ogr](http://www.gdal.org/ogr2ogr.html), but as usual, you might find more useful information on [blogs](http://www.bostongis.com/PrinterFriendly.aspx?content_name=ogr_cheatsheet) etc."
   ]
  },
  {
   "cell_type": "markdown",
   "metadata": {},
   "source": [
    "## GDAL data type"
   ]
  },
  {
   "cell_type": "markdown",
   "metadata": {},
   "source": [
    "GDAL provides a very handy way of dealing with raster data in many different formats, not only by making access to the data easy, but also abstracting the nuances and complications of different file formats. In GDAL, a raster file is made up of the actual raster data (i.e.,  the values of each pixel of LAI that we saw before), and of some *metadata*. Metadata is data that describes something, and in this case it could be the projection, the location of corners and pixel spacing, etc."
   ]
  },
  {
   "cell_type": "markdown",
   "metadata": {},
   "source": [
    "### The GeoTransform"
   ]
  },
  {
   "cell_type": "markdown",
   "metadata": {},
   "source": [
    "GDAL stores information about the location of each pixel using the GeoTransform. The GeoTransform contains the coordinates (in some projection) of the upper left (UL) corner of the image (taken to be the **borders of the pixel** in the UL corner, not the center), the pixel spacing and an additional rotation. By knowing these figures, we can calculate the location of each pixel in the image easily. Let's see how this works with an easy example. We have prepared a GeoTIFF file (GeoTIFF is the more ubiquitous file format for EO data) of the MODIS landcover product for the UK. The data has been extracted from the HDF-EOS files that are similar to the LAI product that we have seen before, and converted. The file is [`lc_h17v03.tif`](https://raw.github.com/jgomezdans/geogg122/master/ChapterX_GDAL/lc_h17v03.tif). We will open the file in Python, and have a look at finding a particular location.\n",
    "\n",
    "Assume we are interested in locating [Kinder Scout](http://toolserver.org/~rhaworth/os/coor_g.php?pagename=Kinder_Scout&params=SK086875_region%3AGB_scale%3A25000), a moorland in the Peak District National Park. Its coordinates are 1.871417W, 53.384726N. In the MODIS integerised sinusoidal projection, the coordinates are (-124114.3, 5936117.4) (you can use the [MODLAND tile calculator website](http://landweb.nascom.nasa.gov/cgi-bin/developer/tilemap.cgi) to do this calculation yourself)."
   ]
  },
  {
   "cell_type": "code",
   "execution_count": 1,
   "metadata": {
    "ExecuteTime": {
     "end_time": "2017-10-30T18:03:26.954183Z",
     "start_time": "2017-10-30T18:03:26.331998Z"
    }
   },
   "outputs": [
    {
     "name": "stdout",
     "output_type": "stream",
     "text": [
      "(-1111950.519667, 463.3127165279167, 0.0, 6671703.118, 0.0, -463.3127165279165)\n",
      "2400 2400\n"
     ]
    }
   ],
   "source": [
    "import gdal # Import GDAL library\n",
    "import numpy as np\n",
    "import matplotlib.pyplot as plt\n",
    "%matplotlib inline\n",
    "\n",
    "# have to make sure have access to gdal data files \n",
    "import os\n",
    "if 'GDAL_DATA' not in os.environ:\n",
    "    os.environ[\"GDAL_DATA\"] = '/opt/anaconda/share/gdal'\n",
    "\n",
    "\n",
    "g = gdal.Open ( \"lc_h17v03.tif\" ) # Open the file\n",
    "if g is None:\n",
    "    print \"Could not open the file!\"\n",
    "geo_transform = g.GetGeoTransform ()\n",
    "print geo_transform\n",
    "print g.RasterXSize, g.RasterYSize"
   ]
  },
  {
   "cell_type": "markdown",
   "metadata": {},
   "source": [
    "In the previous code, we open the file (we just use the filename), and then query the object for its GeoTransform, which we then print out. The 6-element tuple comprises \n",
    "\n",
    "1. The Upper Left *easting* coordinate (i.e., *horizontal*)\n",
    "2. The E-W pixel spacing\n",
    "3. The rotation (0 degrees if image is \"North Up\")\n",
    "4. The Upper left *northing* coordinate (i.e., *vertical*)\n",
    "5. The rotation (0 degrees)\n",
    "6. The N-S pixel spacing, negative as we will be counting from the UL corner\n",
    "\n",
    "We have also seen that the dataset is of size 2400x2400, using `RasterXSize` and `RasterYSize`. The goal is to find the pixel number $(i,j), \\;\\;0\\le i,j < 2400$ that corresponds to Kinder Scout. To do this, we use the following calculations:"
   ]
  },
  {
   "cell_type": "code",
   "execution_count": 2,
   "metadata": {
    "ExecuteTime": {
     "end_time": "2017-10-30T18:03:26.963688Z",
     "start_time": "2017-10-30T18:03:26.957331Z"
    }
   },
   "outputs": [
    {
     "name": "stdout",
     "output_type": "stream",
     "text": [
      "2132.11549009 1587.66572071\n"
     ]
    }
   ],
   "source": [
    "pixel_x = (-124114.3 - geo_transform[0])/geo_transform[1] \\\n",
    "        # The difference in distance between the UL corner (geot[0] \\\n",
    "        #and point of interest. Scaled by geot[1] to get pixel number\n",
    "\n",
    "pixel_y = (5936117.4 - geo_transform[3])/(geo_transform[5]) # Like for pixel_x, \\\n",
    "        #but in vertical direction. Note the different elements of geot \\\n",
    "        #being used\n",
    "\n",
    "print pixel_x, pixel_y"
   ]
  },
  {
   "cell_type": "markdown",
   "metadata": {},
   "source": [
    "If you can't be bothered doing those simple calculations, GDAL offers you a couple of methods to do the same thing already: you can use `ApplyGeoTransform`, a method that takes:\n",
    "* A geotransform array\n",
    "* The x co-ordinate\n",
    "* The y co-ordinate\n",
    "\n",
    "Using the standard geo-transform, you can go from pixel location to projected units:"
   ]
  },
  {
   "cell_type": "code",
   "execution_count": 3,
   "metadata": {
    "ExecuteTime": {
     "end_time": "2017-10-30T18:03:27.068215Z",
     "start_time": "2017-10-30T18:03:27.063673Z"
    }
   },
   "outputs": [
    {
     "name": "stdout",
     "output_type": "stream",
     "text": [
      "[-124114.30000000016, 5936117.4]\n"
     ]
    }
   ],
   "source": [
    "print gdal.ApplyGeoTransform(geo_transform, pixel_x, pixel_y)"
   ]
  },
  {
   "cell_type": "markdown",
   "metadata": {},
   "source": [
    "If we want to go the other way (from projected units to pixel row/column pair) we can \"invert\" the geotransform as follows:"
   ]
  },
  {
   "cell_type": "code",
   "execution_count": 4,
   "metadata": {
    "ExecuteTime": {
     "end_time": "2017-10-30T18:03:27.373543Z",
     "start_time": "2017-10-30T18:03:27.369064Z"
    }
   },
   "outputs": [
    {
     "name": "stdout",
     "output_type": "stream",
     "text": [
      "[2132.115490094644, 1587.6657207091303]\n"
     ]
    }
   ],
   "source": [
    "print gdal.ApplyGeoTransform(gdal.InvGeoTransform(geo_transform), -124114.3, 5936117.4)"
   ]
  },
  {
   "cell_type": "markdown",
   "metadata": {},
   "source": [
    "So the pixel number is a floating point number, which we might need to round off as an integer. Let's plot the entire raster map (with minimum value 0 to ignore the ocean) using [`plt.imshow`](http://matplotlib.org/api/pyplot_api.html#matplotlib.pyplot.imshow) and plot the location of Kinder Scout using [`plt.plot`](http://matplotlib.org/api/pyplot_api.html#matplotlib.pyplot.plt). We will also use [`plt.annotate`](http://matplotlib.org/api/pyplot_api.html#matplotlib.pyplot.annotate) to add a label with an arrow:"
   ]
  },
  {
   "cell_type": "code",
   "execution_count": 5,
   "metadata": {
    "ExecuteTime": {
     "end_time": "2017-10-30T18:03:28.548825Z",
     "start_time": "2017-10-30T18:03:27.695014Z"
    }
   },
   "outputs": [
    {
     "data": {
      "text/plain": [
       "([], <a list of 0 Text yticklabel objects>)"
      ]
     },
     "execution_count": 5,
     "metadata": {},
     "output_type": "execute_result"
    },
    {
     "data": {
      "image/png": "[encoded data removed]",
      "text/plain": [
       "<matplotlib.figure.Figure at 0x7f1b56db4d90>"
      ]
     },
     "metadata": {},
     "output_type": "display_data"
    }
   ],
   "source": [
    "lc = g.ReadAsArray() # Read raster data\n",
    "# Now plot the raster data using gist_earth palette\n",
    "plt.figure(figsize=(11,11))\n",
    "plt.imshow ( lc, interpolation='nearest', vmin=0, cmap=plt.cm.gist_earth )\n",
    "# Plot location of our area of interest as a red dot ('ro')\n",
    "plt.plot ( pixel_x, pixel_y, 'ro')\n",
    "# Annotate\n",
    "plt.annotate('Kinder Scout', xy=(pixel_x, pixel_y),  \\\n",
    "        xycoords='data', xytext=(-120, -40), \\\n",
    "        textcoords='offset points',  size=12, \\\n",
    "        bbox=dict(boxstyle=\"round4,pad=.5\", fc=\"0.8\"), \\\n",
    "        arrowprops=dict(arrowstyle=\"->\", \\\n",
    "        connectionstyle=\"angle,angleA=0,angleB=-90,rad=10\", \\\n",
    "        color='w'), )\n",
    "# Remove vertical and horizontal ticks\n",
    "plt.xticks([])\n",
    "plt.yticks([])"
   ]
  },
  {
   "cell_type": "markdown",
   "metadata": {},
   "source": [
    "#### Try it out in some other places!"
   ]
  },
  {
   "cell_type": "markdown",
   "metadata": {},
   "source": [
    "<div class=\"alert alert-block alert-success\">\n",
    "Find the longitude and latitude of some places of interest in the British isles (West of Greenwich!) and using the MODLAND MODIS tile calculator and the geotransform, repeat the above experiment. Note that the [MODIS calculator](http://landweb.nascom.nasa.gov/cgi-bin/developer/tilemap.cgi) calculates both the projected coordinates in the MODIS sinusoidal projection, as well as the pixel number, so it is a helpful way to check whether you got the right result.\n",
    "<td>\n",
    "</td>\n",
    "<table>\n",
    "<tr>\n",
    "<th>Park name</th><th>Longitude [deg]</th><th>Latitude [deg]</th>\n",
    "</tr>\n",
    "<tr>\n",
    "<td>Dartmoor national park</td>\t<td>-3.904</td><td>\t50.58</td>\n",
    "</tr>\n",
    "<tr>\n",
    "<td>New forest national park</td><td>\t-1.595</td><td>\t50.86</td>\n",
    "</tr>\n",
    "<tr>\n",
    "<td>Exmoor national park</td><td>\t-3.651</td><td>\t51.14</td>\n",
    "</tr>\n",
    "<tr>\n",
    "<td>Pembrokeshire coast national park</td><td>\t-4.694</td><td>\t51.64</td>\n",
    "</tr>\n",
    "<tr>\n",
    "<td>Brecon beacons national park\t</td><td>-3.432</td><td>\t51.88</td>\n",
    "</tr>\n",
    "<tr>\n",
    "<td>Pembrokeshire coast national park</td><td>\t-4.79</td><td>\t51.99</td>\n",
    "</tr>\n",
    "<tr>\n",
    "<td>Norfolk and suffolk broads\t</td><td>1.569</td><td>\t52.62</td>\n",
    "</tr>\n",
    "<tr>\n",
    "<td>Snowdonia national park</td><td>\t-3.898\t</td><td>52.9</td>\n",
    "</tr>\n",
    "<tr>\n",
    "<td>Peak district national park\t</td><td>-1.802\t</td><td>53.3</td>\n",
    "</tr>\n",
    "<tr>\n",
    "<td>Yorkshire dales national park</td><td>\t-2.157\t</td><td>54.23</td>\n",
    "</tr>\n",
    "<tr>\n",
    "<td>North yorkshire moors national park\t</td><td>-0.8855\t</td><td>54.37</td>\n",
    "</tr>\n",
    "<tr>\n",
    "<td>Lake district national park\t</td><td>-3.084\t</td><td>54.47</td>\n",
    "</tr>\n",
    "<tr>\n",
    "<td>Galloway forest park\t</td><td>-4.171\t</td><td>54.87</td>\n",
    "</tr>\n",
    "<tr>\n",
    "<td>Northumberland national park\t</td><td>-2.228\t</td><td>55.28</td>\n",
    "</tr>\n",
    "<tr>\n",
    "<td>Loch lomond and the trossachs national park\t</td><td>-4.593\t</td><td>56.24</td>\n",
    "</tr>\n",
    "<tr>\n",
    "<td>Tay forest park\t</td><td>-4.025</td><td>\t56.59</td>\n",
    "</tr>\n",
    "<tr>\n",
    "<td>Cairngorms national park\t</td><td>-3.545\t</td><td>57.08</td>\n",
    "</tr>\n",
    "</table>\n",
    "</div>"
   ]
  },
  {
   "cell_type": "markdown",
   "metadata": {},
   "source": [
    "## The projection"
   ]
  },
  {
   "cell_type": "markdown",
   "metadata": {},
   "source": [
    "Projections in GDAL objects are stored can be accessed by querying the dataset using the `GetProjection()` method. If we do that on the currently opened dataset (stored in variable `g`), we get:"
   ]
  },
  {
   "cell_type": "code",
   "execution_count": 6,
   "metadata": {
    "ExecuteTime": {
     "end_time": "2017-10-30T18:03:29.410003Z",
     "start_time": "2017-10-30T18:03:29.400213Z"
    }
   },
   "outputs": [
    {
     "name": "stdout",
     "output_type": "stream",
     "text": [
      "PROJCS[\"unnamed\",GEOGCS[\"Unknown datum based upon the custom spheroid\",DATUM[\"Not_specified_based_on_custom_spheroid\",SPHEROID[\"Custom spheroid\",6371007.181,0]],PRIMEM[\"Greenwich\",0],UNIT[\"degree\",0.0174532925199433]],PROJECTION[\"Sinusoidal\"],PARAMETER[\"longitude_of_center\",0],PARAMETER[\"false_easting\",0],PARAMETER[\"false_northing\",0],UNIT[\"metre\",1,AUTHORITY[\"EPSG\",\"9001\"]]]\n"
     ]
    }
   ],
   "source": [
    "print g.GetProjection()"
   ]
  },
  {
   "cell_type": "markdown",
   "metadata": {},
   "source": [
    "The above is the description of the projection (in this case, MODIS sinusoidal) in `WKT` (well-known text) format. There are a number of different ways of specifying projections, the most important being\n",
    "\n",
    "* WKT\n",
    "* Proj4\n",
    "* EPSG codes\n",
    "\n",
    "The site [spatialreference.org](http://spatialreference.org) allows you to search a large collection of projections, and get the representation that you want to use. "
   ]
  },
  {
   "cell_type": "markdown",
   "metadata": {},
   "source": [
    "## Saving files"
   ]
  },
  {
   "cell_type": "markdown",
   "metadata": {},
   "source": [
    "So far, we have read data from files, but lets see how we can save raster data **to** a new file. We will use the previous landcover map as an example. We will write a method to save the data in a format provided by the user. The procedure is fairly straightforward: we get a handler to a driver (e.g. a GeoTIFF or Erdas Imagine format), we create the output file (giving a filename, number of rows, columns, bands, the data type), and then add the relevant metadata (projection, geotransform, ...). We then select a band from the output and copy the array that we want to write to that band."
   ]
  },
  {
   "cell_type": "code",
   "execution_count": 7,
   "metadata": {
    "ExecuteTime": {
     "end_time": "2017-10-30T18:03:30.963726Z",
     "start_time": "2017-10-30T18:03:30.854895Z"
    }
   },
   "outputs": [],
   "source": [
    "g = gdal.Open ( \"lc_h17v03.tif\" ) # Open original file\n",
    "# Get the x, y and number of bands from the original file\n",
    "x_size, y_size, n_bands = g.RasterXSize, g.RasterYSize, g.RasterCount\n",
    "data = g.ReadAsArray ()\n",
    "driver = gdal.GetDriverByName ( \"HFA\" ) # Get a handler to a driver\n",
    "                                        # Maybe try \"GeoTIFF\" here\n",
    "# Next line creates the output dataset with\n",
    "# 1. The filename (\"test_lc_h17v03.img\")\n",
    "# 2. The raster size (x_size, y_size)\n",
    "# 3. The number of bands\n",
    "# 4.The data type (in this case, Byte.\n",
    "#     Other typical values might be gdal.GDT_Int16 \n",
    "#     or gdal.GDT_Float32)\n",
    "\n",
    "dataset_out = driver.Create ( \"test_lc_h17v03.img\", x_size, y_size, n_bands, \n",
    "                             gdal.GDT_Byte )\n",
    "# Set the output geotransform by reading the input one\n",
    "dataset_out.SetGeoTransform ( g.GetGeoTransform() )\n",
    "# Set the output projection by reading the input one\n",
    "dataset_out.SetProjection ( g.GetProjectionRef() )\n",
    "# Now, get band # 1, and write our data array. \n",
    "# Note that the data array needs to have the same type\n",
    "# as the one specified for dataset_out\n",
    "dataset_out.GetRasterBand ( 1 ).WriteArray ( data )\n",
    "# This bit forces GDAL to close the file and write to it\n",
    "dataset_out = None"
   ]
  },
  {
   "cell_type": "markdown",
   "metadata": {},
   "source": [
    "The output file should hopefully exist in this directory. Let's use [`gdalinfo`](http://www.gdal.org/gdalinfo.html) to find out about it"
   ]
  },
  {
   "cell_type": "code",
   "execution_count": 8,
   "metadata": {
    "ExecuteTime": {
     "end_time": "2017-10-30T18:03:31.698155Z",
     "start_time": "2017-10-30T18:03:31.512811Z"
    }
   },
   "outputs": [
    {
     "name": "stdout",
     "output_type": "stream",
     "text": [
      "Driver: HFA/Erdas Imagine Images (.img)\r\n",
      "Files: test_lc_h17v03.img\r\n",
      "Size is 2400, 2400\r\n",
      "Coordinate System is:\r\n",
      "PROJCS[\"Sinusoidal\",\r\n",
      "    GEOGCS[\"GCS_Unknown datum based upon the custom spheroid\",\r\n",
      "        DATUM[\"Not_specified_based_on_custom_spheroid\",\r\n",
      "            SPHEROID[\"Custom_spheroid\",6371007.181,0],\r\n",
      "            TOWGS84[0,0,0,-0,-0,-0,0]],\r\n",
      "        PRIMEM[\"Greenwich\",0],\r\n",
      "        UNIT[\"Degree\",0.017453292519943295]],\r\n",
      "    PROJECTION[\"Sinusoidal\"],\r\n",
      "    PARAMETER[\"longitude_of_center\",0],\r\n",
      "    PARAMETER[\"false_easting\",0],\r\n",
      "    PARAMETER[\"false_northing\",0],\r\n",
      "    UNIT[\"Meter\",1]]\r\n",
      "Origin = (-1111950.519667000044137,6671703.117999999783933)\r\n",
      "Pixel Size = (463.312716527916677,-463.312716527916507)\r\n",
      "Corner Coordinates:\r\n",
      "Upper Left  (-1111950.520, 6671703.118) ( 20d 0' 0.00\"W, 60d 0' 0.00\"N)\r\n",
      "Lower Left  (-1111950.520, 5559752.598) ( 15d33'26.06\"W, 50d 0' 0.00\"N)\r\n",
      "Upper Right (       0.000, 6671703.118) (  0d 0' 0.01\"E, 60d 0' 0.00\"N)\r\n",
      "Lower Right (       0.000, 5559752.598) (  0d 0' 0.01\"E, 50d 0' 0.00\"N)\r\n",
      "Center      ( -555975.260, 6115727.858) (  8d43' 2.04\"W, 55d 0' 0.00\"N)\r\n",
      "Band 1 Block=64x64 Type=Byte, ColorInterp=Undefined\r\n",
      "  Description = Layer_1\r\n",
      "  Metadata:\r\n",
      "    LAYER_TYPE=athematic\r\n",
      "\r\n"
     ]
    }
   ],
   "source": [
    "!gdalinfo test_lc_h17v03.img"
   ]
  },
  {
   "cell_type": "markdown",
   "metadata": {},
   "source": [
    "So the previous code works. Since this is something we typically do (read some data from one or more files, manipulate it and save the result in output files), it makes a lot of sense to try to put this code in a method that is more or less generic, that we can test and then re-use. Here's a first attempt at it:"
   ]
  },
  {
   "cell_type": "code",
   "execution_count": 9,
   "metadata": {
    "ExecuteTime": {
     "end_time": "2017-10-30T18:03:31.955342Z",
     "start_time": "2017-10-30T18:03:31.933865Z"
    }
   },
   "outputs": [],
   "source": [
    "def save_raster ( output_name, raster_data, dataset, driver=\"GTiff\" ):\n",
    "    \"\"\"\n",
    "    A function to save a 1-band raster using GDAL to the file indicated\n",
    "    by ``output_name``. It requires a GDAL-accesible dataset to collect \n",
    "    the projection and geotransform.\n",
    "    \n",
    "    Parameters\n",
    "    ----------\n",
    "    output_name: str\n",
    "        The output filename, with full path and extension if required\n",
    "    raster_data: array\n",
    "        The array that we want to save\n",
    "    dataset: str\n",
    "        Filename of a GDAL-friendly dataset that we want to use to\n",
    "        read geotransform & projection information\n",
    "    driver: str\n",
    "        A GDAL driver string, like GTiff or HFA.\n",
    "    \"\"\"\n",
    "    \n",
    "    # Open the reference dataset\n",
    "    g = gdal.Open ( dataset )\n",
    "    # Get the Geotransform vector\n",
    "    geo_transform = g.GetGeoTransform ()\n",
    "    x_size = g.RasterXSize # Raster xsize\n",
    "    y_size = g.RasterYSize # Raster ysize\n",
    "    srs = g.GetProjectionRef () # Projection\n",
    "    # Need a driver object. By default, we use GeoTIFF\n",
    "    driver = gdal.GetDriverByName ( driver )\n",
    "    dataset_out = driver.Create ( output_name, x_size, y_size, 1, \\\n",
    "            gdal.GDT_Float32 )\n",
    "    dataset_out.SetGeoTransform ( geo_transform )\n",
    "    dataset_out.SetProjection ( srs )\n",
    "    dataset_out.GetRasterBand ( 1 ).WriteArray ( \\\n",
    "            raster_data.astype(np.float32) )\n",
    "    dataset_out = None"
   ]
  },
  {
   "cell_type": "markdown",
   "metadata": {},
   "source": [
    "<div class=\"alert alert-block alert-success\">\n",
    "Now try modifying that method so that you can\n",
    "\n",
    "1. Select the output data type diffrent to Float32\n",
    "2. Provide a given projection and geotransform (e.g. if you don't have a GDAL filename)\n",
    "</div>"
   ]
  },
  {
   "cell_type": "markdown",
   "metadata": {},
   "source": [
    "## Reprojecting things"
   ]
  },
  {
   "cell_type": "markdown",
   "metadata": {},
   "source": [
    "Previously, we have used the [MODLAND grid converter](http://landweb.nascom.nasa.gov/cgi-bin/developer/tilemap.cgi) site to go from latitude/longitude pairs to MODIS projection. However, in practice, we might want to use a range of different projections, and convert many points at the same time, so how do we go about that?\n",
    "\n",
    "In GDAL/OGR, most projection-related tools are in the `osr` package, which needs to be imported like e.g. `gdal` itself. The main tools are the `osr.SpatialReference` object, which defines a projection object (with no projection to start with), and the `osr.CoordinateTransformation` object. \n",
    "\n",
    "Once you instantiate `osr.SpatialReference`, it holds no projection information. You need to use methods to set it up, using EPSG codes, Proj4 strings, or whatever. These methods typically start by `ImportFrom` (e.g. `ImportFromEPSG`, `ImportFromProj4`, ...).\n",
    "\n",
    "The `CoordinateTransformation` requires a source and destination spatial references that have been configured. Once this is done, it expose the method `TransformPoint` to convert coordinates from the source to the destination projection.\n",
    "\n",
    "Let's see how this works by converting some latitude/longitude pairs to the Ordnance Survey's [National Grid](http://en.wikipedia.org/wiki/Ordnance_Survey_National_Grid) projection. The projection is also available in [spatialreference.org](http://spatialreference.org/ref/epsg/27700/), where we can gleam its EPSG code (27700). The EPSG code for longitude latitude is [4326](http://spatialreference.org/ref/epsg/4326/). Let's see this in practice:\n"
   ]
  },
  {
   "cell_type": "code",
   "execution_count": 10,
   "metadata": {
    "ExecuteTime": {
     "end_time": "2017-10-30T18:03:33.081894Z",
     "start_time": "2017-10-30T18:03:33.047183Z"
    }
   },
   "outputs": [
    {
     "name": "stdout",
     "output_type": "stream",
     "text": [
      "Site: Snowdonia national park Lon/Lat: -3.898,52.9, OS x,y,z: 272430,335305,-51.8129\n"
     ]
    }
   ],
   "source": [
    "from osgeo import osr, ogr\n",
    "\n",
    "# Define the source projection, WGS84 lat/lon. \n",
    "wgs84 = osr.SpatialReference( ) # Define a SpatialReference object\n",
    "wgs84.ImportFromEPSG( 4326 ) # And set it to WGS84 using the EPSG code\n",
    "\n",
    "# Now for the target projection, Ordnance Survey's British National Grid\n",
    "osng = osr.SpatialReference() # define the SpatialReference object\n",
    "# In this case, we get the projection from a Proj4 string\n",
    "osng.ImportFromEPSG( 27700)\n",
    "# or, if using the proj4 representation\n",
    "#osng.ImportFromProj4 ( \"+proj=tmerc +lat_0=49 +lon_0=-2 \" + \\\n",
    "#                      \"+k=0.9996012717 +x_0=400000 +y_0=-100000 \" + \\\n",
    "#                      \"+ellps=airy +datum=OSGB36 +units=m +no_defs\" )\n",
    "\n",
    "\n",
    "# Now, we define a coordinate transformtion object, *from* wgs84 *to* OSNG\n",
    "tx = osr.CoordinateTransformation( wgs84, osng)\n",
    "# We loop over the lines of park_data, \n",
    "#         using the split method to split by newline characters\n",
    "park_name, lon, lat = \"Snowdonia national park\", -3.898,52.9\n",
    "\n",
    "# create a geometry from coordinates\n",
    "point = ogr.Geometry(ogr.wkbPoint)\n",
    "point.AddPoint(lon, lat)\n",
    "\n",
    "# Actually do the transformation using the TransformPoint method\n",
    "point.Transform ( tx )\n",
    "\n",
    "osng_x = point.GetX()\n",
    "osng_y = point.GetY()\n",
    "osng_z = point.GetZ()\n",
    "\n",
    "# Print out\n",
    "print \"Site: {:s} Lon/Lat: {:g},{:g}, OS x,y,z: {:g},{:g},{:g}\".format(park_name, \n",
    "                                                                lon, lat, osng_x, osng_y, osng_z)"
   ]
  },
  {
   "cell_type": "markdown",
   "metadata": {},
   "source": [
    "You can test the result is reasonable by feeding the data for `osng_x` and `osng_y` in  the OS own [coordinate conversion website](http://www.ordnancesurvey.co.uk/gps/transformation) and making sure that the calculated longitude latitude pair is the same as the one you started with."
   ]
  },
  {
   "cell_type": "markdown",
   "metadata": {},
   "source": [
    "## Reprojecting whole rasters"
   ]
  },
  {
   "cell_type": "markdown",
   "metadata": {},
   "source": [
    "### Using the Python bindings\n",
    "\n",
    "We can reproject one raster file from one projection to another easily by using the gdal.Warp method. Let's suppose we want to convert our original `lc_h17v03.img` dataset (which is MODIS sinusoidal projection) into Lat/Long projection (WGS84, EPSG code 4326).\n",
    "\n"
   ]
  },
  {
   "cell_type": "code",
   "execution_count": 11,
   "metadata": {
    "ExecuteTime": {
     "end_time": "2017-10-30T18:03:34.646322Z",
     "start_time": "2017-10-30T18:03:34.539674Z"
    }
   },
   "outputs": [],
   "source": [
    "gg = gdal.Warp(\"lc_h17v03.img\", \"lc_h17v03_wgs84.tif\", \n",
    "          format=\"GTiff\", width=2400, height=2400, dstSRS=\"EPSG:4326\")"
   ]
  },
  {
   "cell_type": "markdown",
   "metadata": {},
   "source": [
    "There are lots of options you can pass on to `gdal.Warp`. You can see all of them by reading the help associated with the `gdal.WarpOptions` method:"
   ]
  },
  {
   "cell_type": "code",
   "execution_count": 2,
   "metadata": {
    "ExecuteTime": {
     "end_time": "2017-10-31T12:05:14.586934Z",
     "start_time": "2017-10-31T12:05:14.294597Z"
    }
   },
   "outputs": [],
   "source": [
    "import gdal\n",
    "gdal.WarpOptions?"
   ]
  },
  {
   "cell_type": "markdown",
   "metadata": {},
   "source": [
    "### Using command line tools"
   ]
  },
  {
   "cell_type": "markdown",
   "metadata": {},
   "source": [
    "The easiest way to reproject a raster file is to use GDAL's [`gdalwarp`](http://www.gdal.org/gdalwarp.html) tool. As an example, let's say we want to reproject the landcover file from earlier on into latitude/longitude (WGS84):"
   ]
  },
  {
   "cell_type": "code",
   "execution_count": 13,
   "metadata": {
    "ExecuteTime": {
     "end_time": "2017-10-30T18:03:36.059884Z",
     "start_time": "2017-10-30T18:03:35.968033Z"
    }
   },
   "outputs": [
    {
     "name": "stderr",
     "output_type": "stream",
     "text": [
      "ERROR 1: Output dataset lc_h17v03_wgs84.tif exists,\n",
      "but some command line options were provided indicating a new dataset\n",
      "should be created.  Please delete existing dataset and run again.\n",
      "\n"
     ]
    }
   ],
   "source": [
    "%%bash\n",
    "# in case you don't have library path set\n",
    "# use 'locate libnetcdf` or similar if its not in here\n",
    "LD_LIBRARY_PATH=/opt/anaconda/lib:$LD_LIBRARY_PATH\n",
    "export LD_LIBRARY_PATH\n",
    "\n",
    "gdalwarp -of GTiff -t_srs \"EPSG:4326\" -ts 2400 2400 test_lc_h17v03.img  lc_h17v03_wgs84.tif"
   ]
  },
  {
   "cell_type": "markdown",
   "metadata": {},
   "source": [
    "We see here that the command takes a number of arguments:\n",
    "\n",
    "1. `-of GTiff` is the outut format (in this case GeoTIFF)\n",
    "2. `-t_srs \"EPSG:4326\"` is the **to** projection (the **from** projection is already specified in the source dataset), in this case, lat/long WGS84, known by its [EPSG code](http://spatialreference.org/ref/epsg/4326/)\n",
    "3. `-ts 2400 2400` instructs `gdalwarp` to use an output of size `2400*2400`.\n",
    "3. `test_lc_h17v03.img` is the **input dataset**\n",
    "4. `lc_h17v03_wgs84.tif` is the **output dataset**\n",
    "\n",
    "Note that `gdalwarp` will reproject the data, and decide on the pixel size based on some considerations. This can result in the size of the raster changing. If you wanted to still keep the same raster size, we use the `-ts 2400 2400` option, or select an appropriate pixel size using `-tr xres yres` (note it has to be in the target projection, so degrees in this case). We can use `gdalinfo` to see what we've done."
   ]
  },
  {
   "cell_type": "code",
   "execution_count": 14,
   "metadata": {
    "ExecuteTime": {
     "end_time": "2017-10-30T18:03:36.532357Z",
     "start_time": "2017-10-30T18:03:36.469958Z"
    }
   },
   "outputs": [
    {
     "name": "stdout",
     "output_type": "stream",
     "text": [
      "/home/ucfajlg/python/geogg122-1/Chapter4_GDAL\n",
      "Driver: HFA/Erdas Imagine Images (.img)\n",
      "Files: test_lc_h17v03.img\n",
      "Size is 2400, 2400\n",
      "Coordinate System is:\n",
      "PROJCS[\"Sinusoidal\",\n",
      "    GEOGCS[\"GCS_Unknown datum based upon the custom spheroid\",\n",
      "        DATUM[\"Not_specified_based_on_custom_spheroid\",\n",
      "            SPHEROID[\"Custom_spheroid\",6371007.181,0],\n",
      "            TOWGS84[0,0,0,-0,-0,-0,0]],\n",
      "        PRIMEM[\"Greenwich\",0],\n",
      "        UNIT[\"Degree\",0.017453292519943295]],\n",
      "    PROJECTION[\"Sinusoidal\"],\n",
      "    PARAMETER[\"longitude_of_center\",0],\n",
      "    PARAMETER[\"false_easting\",0],\n",
      "    PARAMETER[\"false_northing\",0],\n",
      "    UNIT[\"Meter\",1]]\n",
      "Origin = (-1111950.519667000044137,6671703.117999999783933)\n",
      "Pixel Size = (463.312716527916677,-463.312716527916507)\n",
      "Corner Coordinates:\n",
      "Upper Left  (-1111950.520, 6671703.118) ( 20d 0' 0.00\"W, 60d 0' 0.00\"N)\n",
      "Lower Left  (-1111950.520, 5559752.598) ( 15d33'26.06\"W, 50d 0' 0.00\"N)\n",
      "Upper Right (       0.000, 6671703.118) (  0d 0' 0.01\"E, 60d 0' 0.00\"N)\n",
      "Lower Right (       0.000, 5559752.598) (  0d 0' 0.01\"E, 50d 0' 0.00\"N)\n",
      "Center      ( -555975.260, 6115727.858) (  8d43' 2.04\"W, 55d 0' 0.00\"N)\n",
      "Band 1 Block=64x64 Type=Byte, ColorInterp=Undefined\n",
      "  Description = Layer_1\n",
      "  Metadata:\n",
      "    LAYER_TYPE=athematic\n",
      "\n"
     ]
    }
   ],
   "source": [
    "%%bash\n",
    "# in case you don't have library path set\n",
    "# use 'locate libnetcdf` or similar if its not in here\n",
    "LD_LIBRARY_PATH=/opt/anaconda/lib:$LD_LIBRARY_PATH\n",
    "export LD_LIBRARY_PATH\n",
    "\n",
    "pwd\n",
    "gdalinfo test_lc_h17v03.img"
   ]
  },
  {
   "cell_type": "code",
   "execution_count": 15,
   "metadata": {
    "ExecuteTime": {
     "end_time": "2017-10-30T18:03:36.594672Z",
     "start_time": "2017-10-30T18:03:36.534446Z"
    }
   },
   "outputs": [
    {
     "name": "stdout",
     "output_type": "stream",
     "text": [
      "Driver: GTiff/GeoTIFF\n",
      "Files: lc_h17v03_wgs84.tif\n",
      "Size is 2400, 2400\n",
      "Coordinate System is:\n",
      "GEOGCS[\"WGS 84\",\n",
      "    DATUM[\"WGS_1984\",\n",
      "        SPHEROID[\"WGS 84\",6378137,298.257223563,\n",
      "            AUTHORITY[\"EPSG\",\"7030\"]],\n",
      "        AUTHORITY[\"EPSG\",\"6326\"]],\n",
      "    PRIMEM[\"Greenwich\",0],\n",
      "    UNIT[\"degree\",0.0174532925199433],\n",
      "    AUTHORITY[\"EPSG\",\"4326\"]]\n",
      "Origin = (-19.999999994952233,59.999999994611805)\n",
      "Pixel Size = (0.008333919248404,-0.004166959624202)\n",
      "Metadata:\n",
      "  AREA_OR_POINT=Area\n",
      "Image Structure Metadata:\n",
      "  INTERLEAVE=BAND\n",
      "Corner Coordinates:\n",
      "Upper Left  ( -20.0000000,  60.0000000) ( 20d 0' 0.00\"W, 60d 0' 0.00\"N)\n",
      "Lower Left  ( -20.0000000,  49.9992969) ( 20d 0' 0.00\"W, 49d59'57.47\"N)\n",
      "Upper Right (   0.0014062,  60.0000000) (  0d 0' 5.06\"E, 60d 0' 0.00\"N)\n",
      "Lower Right (   0.0014062,  49.9992969) (  0d 0' 5.06\"E, 49d59'57.47\"N)\n",
      "Center      (  -9.9992969,  54.9996484) (  9d59'57.47\"W, 54d59'58.73\"N)\n",
      "Band 1 Block=2400x3 Type=Byte, ColorInterp=Gray\n",
      "  Description = Layer_1\n",
      "  Metadata:\n",
      "    LAYER_TYPE=athematic\n"
     ]
    }
   ],
   "source": [
    "%%bash\n",
    "# in case you don't have library path set\n",
    "# use 'locate libnetcdf` or similar if its not in here\n",
    "LD_LIBRARY_PATH=/opt/anaconda/lib:$LD_LIBRARY_PATH\n",
    "export LD_LIBRARY_PATH\n",
    "\n",
    "gdalinfo lc_h17v03_wgs84.tif"
   ]
  },
  {
   "cell_type": "markdown",
   "metadata": {},
   "source": [
    "Let's see how different these two datasets are:"
   ]
  },
  {
   "cell_type": "code",
   "execution_count": 16,
   "metadata": {
    "ExecuteTime": {
     "end_time": "2017-10-30T18:03:38.917157Z",
     "start_time": "2017-10-30T18:03:37.021890Z"
    }
   },
   "outputs": [
    {
     "data": {
      "text/plain": [
       "<matplotlib.image.AxesImage at 0x7f1b56b0e410>"
      ]
     },
     "execution_count": 16,
     "metadata": {},
     "output_type": "execute_result"
    },
    {
     "data": {
      "image/png": "[encoded data removed]",
      "text/plain": [
       "<matplotlib.figure.Figure at 0x7f1b56dcaa90>"
      ]
     },
     "metadata": {},
     "output_type": "display_data"
    }
   ],
   "source": [
    "g = gdal.Open ( \"lc_h17v03_wgs84.tif\" )\n",
    "wgs84 = g.ReadAsArray()\n",
    "g = gdal.Open(\"test_lc_h17v03.img\")\n",
    "modis = g.ReadAsArray()\n",
    "fig, axs = plt.subplots(nrows=1, ncols=2, \n",
    "                        sharex=True, sharey=True, figsize=(13, 5))\n",
    "\n",
    "axs[0].imshow ( modis, interpolation='nearest', vmin=0, cmap=plt.cm.gist_earth )\n",
    "axs[1].imshow ( wgs84, interpolation='nearest', vmin=0, cmap=plt.cm.gist_earth )"
   ]
  },
  {
   "cell_type": "markdown",
   "metadata": {},
   "source": [
    "<div class=\"alert alert-block alert-success\">\n",
    "1. Create a method that reprojects from a rasters original projection to an arbitrary one\n",
    "2. Check with e.g. the OS projection for the UK (remember the EPSG code for this is 27700)\n",
    "\n",
    "</div>"
   ]
  },
  {
   "cell_type": "markdown",
   "metadata": {},
   "source": [
    "## Creating a mask from a vector"
   ]
  },
  {
   "cell_type": "markdown",
   "metadata": {},
   "source": [
    "Suppose in the previous example that one is only interested in Ireland. How could you ignore the pixels that don't believe to the UK? One way to go around that would be if we had a vector with the country boundaries, then we could select the pixels that fall within Ireland, and create a binary mask of the same size as our map with `True` within Ireland and `False` otherwise.\n",
    "\n",
    "Predictably, GDAL can do this. We will use a [global map of countries](http://www.naturalearthdata.com/http//www.naturalearthdata.com/download/110m/cultural/ne_110m_admin_0_countries.zip) provided as a zipped shapefile. You can download that file using requests as here:"
   ]
  },
  {
   "cell_type": "code",
   "execution_count": 17,
   "metadata": {
    "ExecuteTime": {
     "end_time": "2017-10-30T18:03:42.348863Z",
     "start_time": "2017-10-30T18:03:39.796734Z"
    }
   },
   "outputs": [],
   "source": [
    "import requests\n",
    "r = requests.get (\"http://www.naturalearthdata.com/http//www.naturalearthdata.com/download/110m/\" +\n",
    "                  \"cultural/ne_110m_admin_0_countries.zip\")\n",
    "if r.ok:\n",
    "    with open(\"data/ne_110m_admin_0_countries.zip\", 'w') as fp:\n",
    "        fp.write(r.content)\n",
    "        "
   ]
  },
  {
   "cell_type": "markdown",
   "metadata": {},
   "source": [
    "But if you can't be bothered, you can also open [remote zipped files with GDAL](http://gdal.org/gdal_virtual_file_systems.html). Given this is a zipfile, we can use the command line tool `ogrinfo` to see the contents of the file and, in particular, the layers it contains. Basically, we build the filename as \n",
    "\n",
    "```\n",
    "/vsizip/vsicurl/<remote_filename.zip>/<file_inside_zipfile>\n",
    "```\n",
    "\n",
    "We get a few warnings, but..."
   ]
  },
  {
   "cell_type": "code",
   "execution_count": 18,
   "metadata": {
    "ExecuteTime": {
     "end_time": "2017-10-30T18:03:50.442994Z",
     "start_time": "2017-10-30T18:03:42.358851Z"
    }
   },
   "outputs": [
    {
     "name": "stdout",
     "output_type": "stream",
     "text": [
      "ERROR 1: Random access not supported for /vsizip\n",
      "Warning 1: Recode from CP437 to UTF-8 failed with the error: \"Invalid argument\".\n",
      "Warning 1: Recode from CP437 to UTF-8 failed with the error: \"Invalid argument\".\n",
      "Warning 1: Recode from CP437 to UTF-8 failed with the error: \"Invalid argument\".\n",
      "Warning 1: Recode from CP437 to UTF-8 failed with the error: \"Invalid argument\".\n",
      "Warning 1: Recode from CP437 to UTF-8 failed with the error: \"Invalid argument\".\n",
      "Warning 1: Recode from CP437 to UTF-8 failed with the error: \"Invalid argument\".\n",
      "Warning 1: Recode from CP437 to UTF-8 failed with the error: \"Invalid argument\".\n",
      "Warning 1: Recode from CP437 to UTF-8 failed with the error: \"Invalid argument\".\n",
      "ERROR 1: Random access not supported for /vsizip\n",
      "Warning 4: Failed to open /vsizip/vsicurl/http://www.naturalearthdata.com/http//www.naturalearthdata.com/download/110m/cultural/ne_110m_admin_0_countries.zip/ne_110m_admin_0_countries.shp, No such file or directory.\n",
      "Warning 1: Recode from CP437 to UTF-8 failed with the error: \"Invalid argument\".\n",
      "Warning 1: Recode from CP437 to UTF-8 failed with the error: \"Invalid argument\".\n",
      "Warning 1: Recode from CP437 to UTF-8 failed with the error: \"Invalid argument\".\n",
      "Warning 1: Recode from CP437 to UTF-8 failed with the error: \"Invalid argument\".\n",
      "Warning 1: Recode from CP437 to UTF-8 failed with the error: \"Invalid argument\".\n",
      "Warning 1: Recode from CP437 to UTF-8 failed with the error: \"Invalid argument\".\n",
      "Had to open data source read-only.\n",
      "INFO: Open of `/vsizip/vsicurl/http://www.naturalearthdata.com/http//www.naturalearthdata.com/download/110m/cultural/ne_110m_admin_0_countries.zip/ne_110m_admin_0_countries.shp'\n",
      "      using driver `ESRI Shapefile' successful.\n",
      "\n",
      "Layer name: ne_110m_admin_0_countries\n",
      "Metadata:\n",
      "  DBF_DATE_LAST_UPDATE=2017-10-04\n",
      "Geometry: Polygon\n",
      "Feature Count: 177\n",
      "Extent: (-180.000000, -90.000000) - (180.000000, 83.645130)\n",
      "Warning 1: Recode from CP437 to UTF-8 failed with the error: \"Invalid argument\".\n",
      "Warning 1: Recode from CP437 to UTF-8 failed with the error: \"Invalid argument\".\n",
      "Layer SRS WKT:\n",
      "GEOGCS[\"WGS84\",\n",
      "    DATUM[\"WGS_1984\",\n",
      "        SPHEROID[\"WGS 84\",6378137,298.257223563]],\n",
      "    PRIMEM[\"Greenwich\",0],\n",
      "    UNIT[\"degree\",0.017453292519943295],\n",
      "    AUTHORITY[\"EPSG\",\"4326\"]]\n",
      "scalerank: Integer (4.0)\n",
      "featurecla: String (30.0)\n",
      "LABELRANK: Real (6.2)\n",
      "SOVEREIGNT: String (32.0)\n",
      "SOV_A3: String (3.0)\n",
      "ADM0_DIF: Real (4.2)\n",
      "LEVEL: Real (4.2)\n",
      "TYPE: String (17.0)\n",
      "ADMIN: String (36.0)\n",
      "ADM0_A3: String (3.0)\n",
      "GEOU_DIF: Real (4.2)\n",
      "GEOUNIT: String (36.0)\n",
      "GU_A3: String (3.0)\n",
      "SU_DIF: Real (4.2)\n",
      "SUBUNIT: String (36.0)\n",
      "SU_A3: String (3.0)\n",
      "BRK_DIFF: Real (4.2)\n",
      "NAME: String (36.0)\n",
      "NAME_LONG: String (36.0)\n",
      "BRK_A3: String (3.0)\n",
      "BRK_NAME: String (36.0)\n",
      "BRK_GROUP: String (30.0)\n",
      "ABBREV: String (13.0)\n",
      "POSTAL: String (4.0)\n",
      "FORMAL_EN: String (52.0)\n",
      "FORMAL_FR: String (35.0)\n",
      "NAME_CIAWF: String (45.0)\n",
      "NOTE_ADM0: String (22.0)\n",
      "NOTE_BRK: String (164.0)\n",
      "NAME_SORT: String (36.0)\n",
      "NAME_ALT: String (38.0)\n",
      "MAPCOLOR7: Real (4.2)\n",
      "MAPCOLOR8: Real (4.2)\n",
      "MAPCOLOR9: Real (4.2)\n",
      "MAPCOLOR13: Real (6.2)\n",
      "POP_EST: Real (13.2)\n",
      "POP_RANK: Real (5.2)\n",
      "GDP_MD_EST: Real (11.2)\n",
      "POP_YEAR: Real (7.2)\n",
      "LASTCENSUS: Real (7.2)\n",
      "GDP_YEAR: Real (7.2)\n",
      "ECONOMY: String (26.0)\n",
      "INCOME_GRP: String (23.0)\n",
      "WIKIPEDIA: Real (6.2)\n",
      "FIPS_10_: String (3.0)\n",
      "ISO_A2: String (5.0)\n",
      "ISO_A3: String (3.0)\n",
      "ISO_A3_EH: String (3.0)\n",
      "ISO_N3: String (3.0)\n",
      "UN_A3: String (4.0)\n",
      "WB_A2: String (3.0)\n",
      "WB_A3: String (3.0)\n",
      "WOE_ID: Real (11.2)\n",
      "WOE_ID_EH: Real (11.2)\n",
      "WOE_NOTE: String (190.0)\n",
      "ADM0_A3_IS: String (3.0)\n",
      "ADM0_A3_US: String (3.0)\n",
      "ADM0_A3_UN: Real (6.2)\n",
      "ADM0_A3_WB: Real (6.2)\n",
      "CONTINENT: String (23.0)\n",
      "REGION_UN: String (23.0)\n",
      "SUBREGION: String (25.0)\n",
      "REGION_WB: String (26.0)\n",
      "NAME_LEN: Real (5.2)\n",
      "LONG_LEN: Real (5.2)\n",
      "ABBREV_LEN: Real (5.2)\n",
      "TINY: Real (6.2)\n",
      "HOMEPART: Real (6.2)\n",
      "MIN_ZOOM: Real (6.2)\n",
      "MIN_LABEL: Real (6.2)\n",
      "MAX_LABEL: Real (6.2)\n"
     ]
    }
   ],
   "source": [
    "!ogrinfo -al -so \\\n",
    " /vsizip/vsicurl/http://www.naturalearthdata.com/http//www.naturalearthdata.com/download/110m/cultural/ne_110m_admin_0_countries.zip/ne_110m_admin_0_countries.shp"
   ]
  },
  {
   "cell_type": "markdown",
   "metadata": {},
   "source": [
    "We see that we can basically filter when the `NAME` attribute is equal to the country name. On the shell, we can see what information is available on ireland by filtering:"
   ]
  },
  {
   "cell_type": "code",
   "execution_count": 19,
   "metadata": {
    "ExecuteTime": {
     "end_time": "2017-10-30T18:03:57.427922Z",
     "start_time": "2017-10-30T18:03:50.448275Z"
    },
    "scrolled": true
   },
   "outputs": [
    {
     "name": "stdout",
     "output_type": "stream",
     "text": [
      "ERROR 1: Random access not supported for /vsizip\n",
      "Warning 1: Recode from CP437 to UTF-8 failed with the error: \"Invalid argument\".\n",
      "Warning 1: Recode from CP437 to UTF-8 failed with the error: \"Invalid argument\".\n",
      "Warning 1: Recode from CP437 to UTF-8 failed with the error: \"Invalid argument\".\n",
      "Warning 1: Recode from CP437 to UTF-8 failed with the error: \"Invalid argument\".\n",
      "Warning 1: Recode from CP437 to UTF-8 failed with the error: \"Invalid argument\".\n",
      "Warning 1: Recode from CP437 to UTF-8 failed with the error: \"Invalid argument\".\n",
      "Warning 1: Recode from CP437 to UTF-8 failed with the error: \"Invalid argument\".\n",
      "Warning 1: Recode from CP437 to UTF-8 failed with the error: \"Invalid argument\".\n",
      "ERROR 1: Random access not supported for /vsizip\n",
      "Warning 4: Failed to open /vsizip/vsicurl/http://www.naturalearthdata.com/http//www.naturalearthdata.com/download/110m/cultural/ne_110m_admin_0_countries.zip/ne_110m_admin_0_countries.shp, No such file or directory.\n",
      "Warning 1: Recode from CP437 to UTF-8 failed with the error: \"Invalid argument\".\n",
      "Warning 1: Recode from CP437 to UTF-8 failed with the error: \"Invalid argument\".\n",
      "Warning 1: Recode from CP437 to UTF-8 failed with the error: \"Invalid argument\".\n",
      "Warning 1: Recode from CP437 to UTF-8 failed with the error: \"Invalid argument\".\n",
      "Warning 1: Recode from CP437 to UTF-8 failed with the error: \"Invalid argument\".\n",
      "Warning 1: Recode from CP437 to UTF-8 failed with the error: \"Invalid argument\".\n",
      "Had to open data source read-only.\n",
      "INFO: Open of `/vsizip/vsicurl/http://www.naturalearthdata.com/http//www.naturalearthdata.com/download/110m/cultural/ne_110m_admin_0_countries.zip/ne_110m_admin_0_countries.shp'\n",
      "      using driver `ESRI Shapefile' successful.\n",
      "\n",
      "Layer name: ne_110m_admin_0_countries\n",
      "Metadata:\n",
      "  DBF_DATE_LAST_UPDATE=2017-10-04\n",
      "Geometry: Polygon\n",
      "Feature Count: 1\n",
      "Extent: (-180.000000, -90.000000) - (180.000000, 83.645130)\n",
      "Warning 1: Recode from CP437 to UTF-8 failed with the error: \"Invalid argument\".\n",
      "Warning 1: Recode from CP437 to UTF-8 failed with the error: \"Invalid argument\".\n",
      "Layer SRS WKT:\n",
      "GEOGCS[\"WGS84\",\n",
      "    DATUM[\"WGS_1984\",\n",
      "        SPHEROID[\"WGS 84\",6378137,298.257223563]],\n",
      "    PRIMEM[\"Greenwich\",0],\n",
      "    UNIT[\"degree\",0.017453292519943295],\n",
      "    AUTHORITY[\"EPSG\",\"4326\"]]\n",
      "scalerank: Integer (4.0)\n",
      "featurecla: String (30.0)\n",
      "LABELRANK: Real (6.2)\n",
      "SOVEREIGNT: String (32.0)\n",
      "SOV_A3: String (3.0)\n",
      "ADM0_DIF: Real (4.2)\n",
      "LEVEL: Real (4.2)\n",
      "TYPE: String (17.0)\n",
      "ADMIN: String (36.0)\n",
      "ADM0_A3: String (3.0)\n",
      "GEOU_DIF: Real (4.2)\n",
      "GEOUNIT: String (36.0)\n",
      "GU_A3: String (3.0)\n",
      "SU_DIF: Real (4.2)\n",
      "SUBUNIT: String (36.0)\n",
      "SU_A3: String (3.0)\n",
      "BRK_DIFF: Real (4.2)\n",
      "NAME: String (36.0)\n",
      "NAME_LONG: String (36.0)\n",
      "BRK_A3: String (3.0)\n",
      "BRK_NAME: String (36.0)\n",
      "BRK_GROUP: String (30.0)\n",
      "ABBREV: String (13.0)\n",
      "POSTAL: String (4.0)\n",
      "FORMAL_EN: String (52.0)\n",
      "FORMAL_FR: String (35.0)\n",
      "NAME_CIAWF: String (45.0)\n",
      "NOTE_ADM0: String (22.0)\n",
      "NOTE_BRK: String (164.0)\n",
      "NAME_SORT: String (36.0)\n",
      "NAME_ALT: String (38.0)\n",
      "MAPCOLOR7: Real (4.2)\n",
      "MAPCOLOR8: Real (4.2)\n",
      "MAPCOLOR9: Real (4.2)\n",
      "MAPCOLOR13: Real (6.2)\n",
      "POP_EST: Real (13.2)\n",
      "POP_RANK: Real (5.2)\n",
      "GDP_MD_EST: Real (11.2)\n",
      "POP_YEAR: Real (7.2)\n",
      "LASTCENSUS: Real (7.2)\n",
      "GDP_YEAR: Real (7.2)\n",
      "ECONOMY: String (26.0)\n",
      "INCOME_GRP: String (23.0)\n",
      "WIKIPEDIA: Real (6.2)\n",
      "FIPS_10_: String (3.0)\n",
      "ISO_A2: String (5.0)\n",
      "ISO_A3: String (3.0)\n",
      "ISO_A3_EH: String (3.0)\n",
      "ISO_N3: String (3.0)\n",
      "UN_A3: String (4.0)\n",
      "WB_A2: String (3.0)\n",
      "WB_A3: String (3.0)\n",
      "WOE_ID: Real (11.2)\n",
      "WOE_ID_EH: Real (11.2)\n",
      "WOE_NOTE: String (190.0)\n",
      "ADM0_A3_IS: String (3.0)\n",
      "ADM0_A3_US: String (3.0)\n",
      "ADM0_A3_UN: Real (6.2)\n",
      "ADM0_A3_WB: Real (6.2)\n",
      "CONTINENT: String (23.0)\n",
      "REGION_UN: String (23.0)\n",
      "SUBREGION: String (25.0)\n",
      "REGION_WB: String (26.0)\n",
      "NAME_LEN: Real (5.2)\n",
      "LONG_LEN: Real (5.2)\n",
      "ABBREV_LEN: Real (5.2)\n",
      "TINY: Real (6.2)\n",
      "HOMEPART: Real (6.2)\n",
      "MIN_ZOOM: Real (6.2)\n",
      "MIN_LABEL: Real (6.2)\n",
      "MAX_LABEL: Real (6.2)\n",
      "OGRFeature(ne_110m_admin_0_countries):74\n",
      "  scalerank (Integer) = 1\n",
      "  featurecla (String) = Admin-0 country\n",
      "  LABELRANK (Real) = 3.00\n",
      "  SOVEREIGNT (String) = Ireland\n",
      "  SOV_A3 (String) = IRL\n",
      "  ADM0_DIF (Real) = 0.00\n",
      "  LEVEL (Real) = 2.00\n",
      "  TYPE (String) = Sovereign country\n",
      "  ADMIN (String) = Ireland\n",
      "  ADM0_A3 (String) = IRL\n",
      "  GEOU_DIF (Real) = 0.00\n",
      "  GEOUNIT (String) = Ireland\n",
      "  GU_A3 (String) = IRL\n",
      "  SU_DIF (Real) = 0.00\n",
      "  SUBUNIT (String) = Ireland\n",
      "  SU_A3 (String) = IRL\n",
      "  BRK_DIFF (Real) = 0.00\n",
      "  NAME (String) = Ireland\n",
      "  NAME_LONG (String) = Ireland\n",
      "  BRK_A3 (String) = IRL\n",
      "  BRK_NAME (String) = Ireland\n",
      "  BRK_GROUP (String) = (null)\n",
      "  ABBREV (String) = Ire.\n",
      "  POSTAL (String) = IRL\n",
      "  FORMAL_EN (String) = Ireland\n",
      "  FORMAL_FR (String) = (null)\n",
      "  NAME_CIAWF (String) = Ireland\n",
      "  NOTE_ADM0 (String) = (null)\n",
      "  NOTE_BRK (String) = (null)\n",
      "  NAME_SORT (String) = Ireland\n",
      "  NAME_ALT (String) = (null)\n",
      "  MAPCOLOR7 (Real) = 2.00\n",
      "  MAPCOLOR8 (Real) = 3.00\n",
      "  MAPCOLOR9 (Real) = 2.00\n",
      "  MAPCOLOR13 (Real) = 2.00\n",
      "  POP_EST (Real) = 5011102.00\n",
      "  POP_RANK (Real) = 13.00\n",
      "  GDP_MD_EST (Real) = 322000.00\n",
      "  POP_YEAR (Real) = 2017.00\n",
      "  LASTCENSUS (Real) = 2011.00\n",
      "  GDP_YEAR (Real) = 2016.00\n",
      "  ECONOMY (String) = 2. Developed region: nonG7\n",
      "  INCOME_GRP (String) = 1. High income: OECD\n",
      "  WIKIPEDIA (Real) = -99.00\n",
      "  FIPS_10_ (String) = EI\n",
      "  ISO_A2 (String) = IE\n",
      "  ISO_A3 (String) = IRL\n",
      "  ISO_A3_EH (String) = IRL\n",
      "  ISO_N3 (String) = 372\n",
      "  UN_A3 (String) = 372\n",
      "  WB_A2 (String) = IE\n",
      "  WB_A3 (String) = IRL\n",
      "  WOE_ID (Real) = 23424803.00\n",
      "  WOE_ID_EH (Real) = 23424803.00\n",
      "  WOE_NOTE (String) = Exact WOE match as country\n",
      "  ADM0_A3_IS (String) = IRL\n",
      "  ADM0_A3_US (String) = IRL\n",
      "  ADM0_A3_UN (Real) = -99.00\n",
      "  ADM0_A3_WB (Real) = -99.00\n",
      "  CONTINENT (String) = Europe\n",
      "  REGION_UN (String) = Europe\n",
      "  SUBREGION (String) = Northern Europe\n",
      "  REGION_WB (String) = Europe & Central Asia\n",
      "  NAME_LEN (Real) = 7.00\n",
      "  LONG_LEN (Real) = 7.00\n",
      "  ABBREV_LEN (Real) = 4.00\n",
      "  TINY (Real) = -99.00\n",
      "  HOMEPART (Real) = 1.00\n",
      "  MIN_ZOOM (Real) = 0.00\n",
      "  MIN_LABEL (Real) = 3.00\n",
      "  MAX_LABEL (Real) = 8.00\n",
      "  POLYGON ((-7.57216793459106 55.1316222194549,-7.36603064617879 54.5958409694527,-7.57216793459106 54.059956366586,-6.95373023113807 54.0737022975756,-6.19788489422103 53.8675650091634,-6.03298539877761 53.1531641709444,-6.78885657391085 52.2601179062923,-8.56161658368356 51.6693012558994,-9.97708574059027 51.8204548203531,-9.16628251793078 52.8646288112427,-9.68852454267245 53.8813626165853,-8.32798743329201 54.6645189479686,-7.57216793459106 55.1316222194549))\n",
      "\n"
     ]
    }
   ],
   "source": [
    "!ogrinfo -al -where \"NAME='IRELAND'\" \\\n",
    "    /vsizip/vsicurl/http://www.naturalearthdata.com/http//www.naturalearthdata.com/download/110m/cultural/ne_110m_admin_0_countries.zip/ne_110m_admin_0_countries.shp\n"
   ]
  },
  {
   "cell_type": "markdown",
   "metadata": {},
   "source": [
    "The associated polygon is a polygon describing the borders of Ireland. We want to rasterise that polygon to provide a mask for e.g. `lc_h17v03_wgs84.tif` (the Lat/Long projection you created earlier). To do this, we need to extract information about\n",
    "\n",
    "1. The projection of the raster\n",
    "2. The extent of the raster\n",
    "3. The number of rows and columns\n",
    "4. A value for pixels outside our region of interest (say 0)\n",
    "5. A value for pixels inside our region of itnerest (say 1)\n",
    "\n",
    "We will extract the relevant information in what follows\n"
   ]
  },
  {
   "cell_type": "code",
   "execution_count": 20,
   "metadata": {
    "ExecuteTime": {
     "end_time": "2017-10-30T18:03:57.513108Z",
     "start_time": "2017-10-30T18:03:57.435640Z"
    }
   },
   "outputs": [
    {
     "name": "stdout",
     "output_type": "stream",
     "text": [
      "Done!\n"
     ]
    }
   ],
   "source": [
    "g = gdal.Open(\"lc_h17v03_wgs84.tif\")\n",
    "proj = g.GetProjectionRef()\n",
    "geoT = g.GetGeoTransform()\n",
    "xs = []\n",
    "ys = []\n",
    "for x,y in [ [0, 0], [0, g.RasterYSize], [g.RasterXSize, g.RasterYSize], [g.RasterXSize, 0]]:\n",
    "    xx, yy = gdal.ApplyGeoTransform(geoT, x,y)\n",
    "    xs.append(xx)\n",
    "    ys.append(yy)\n",
    "extent = [min(xs), min(ys), max(xs), max(ys)]\n",
    "xRes = geoT[1]\n",
    "yRes = geoT[-1]\n",
    "nx = g.RasterXSize\n",
    "ny = g.RasterYSize\n",
    "\n",
    "gg = gdal.Rasterize(\"data/lc_h17v03_wgs84_ireland.tif\", \"/vsizip/\" +\n",
    "               \"data/ne_110m_admin_0_countries.zip/ne_110m_admin_0_countries.shp\",\n",
    "                format=\"GTiff\", xRes=xRes, yRes=yRes, where=\"NAME='Ireland'\",\n",
    "                outputBounds=[min(xs), min(ys), max(xs), max(ys)], \n",
    "                width=nx, height=ny, noData=0, burnValues=1)\n",
    "if gg is not None:\n",
    "    print \"Done!\""
   ]
  },
  {
   "cell_type": "code",
   "execution_count": 21,
   "metadata": {
    "ExecuteTime": {
     "end_time": "2017-10-30T18:03:59.478458Z",
     "start_time": "2017-10-30T18:03:57.515926Z"
    }
   },
   "outputs": [
    {
     "data": {
      "text/plain": [
       "<matplotlib.image.AxesImage at 0x7f1b50c505d0>"
      ]
     },
     "execution_count": 21,
     "metadata": {},
     "output_type": "execute_result"
    },
    {
     "data": {
      "image/png": "[encoded data removed]",
      "text/plain": [
       "<matplotlib.figure.Figure at 0x7f1b54333650>"
      ]
     },
     "metadata": {},
     "output_type": "display_data"
    }
   ],
   "source": [
    "mask = gg.ReadAsArray()\n",
    "g = gdal.Open ( \"lc_h17v03_wgs84.tif\" )\n",
    "wgs84 = g.ReadAsArray()\n",
    "\n",
    "fig, axs = plt.subplots(nrows=1, ncols=2, figsize=(13,5))\n",
    "axs[0].imshow(mask, interpolation=\"nearest\")\n",
    "axs[1].imshow((1.*mask)*wgs84, interpolation=\"nearest\", cmap=plt.cm.gist_earth)\n"
   ]
  },
  {
   "cell_type": "markdown",
   "metadata": {},
   "source": [
    "That was using the lowest resolution map. Let's use something a bit better... There's a higher resolution map available from \n",
    "[]http://www.naturalearthdata.com/http//www.naturalearthdata.com/download/50m/cultural/ne_50m_admin_0_countries.zip](http://www.naturalearthdata.com/http//www.naturalearthdata.com/download/50m/cultural/ne_50m_admin_0_countries.zip). We'll download it if it's not available in your `data/` folder, and do the same as above.."
   ]
  },
  {
   "cell_type": "code",
   "execution_count": 22,
   "metadata": {
    "ExecuteTime": {
     "end_time": "2017-10-30T18:04:01.539824Z",
     "start_time": "2017-10-30T18:03:59.493250Z"
    }
   },
   "outputs": [
    {
     "name": "stdout",
     "output_type": "stream",
     "text": [
      "Done!\n"
     ]
    },
    {
     "data": {
      "text/plain": [
       "<matplotlib.image.AxesImage at 0x7f1b50ace690>"
      ]
     },
     "execution_count": 22,
     "metadata": {},
     "output_type": "execute_result"
    },
    {
     "data": {
      "image/png": "[encoded data removed]",
      "text/plain": [
       "<matplotlib.figure.Figure at 0x7f1b50c72490>"
      ]
     },
     "metadata": {},
     "output_type": "display_data"
    }
   ],
   "source": [
    "import os\n",
    "if not os.path.exists(\"data/ne_50m_admin_0_countries.zip\"):\n",
    "    r = requests.get (\"http://www.naturalearthdata.com/http//www.naturalearthdata.com/download/50m/\"\n",
    "                      + \"cultural/ne_50m_admin_0_countries.zip\")\n",
    "    if r.ok:\n",
    "        with open(\"data/ne_50m_admin_0_countries.zip\", 'w') as fp:\n",
    "            fp.write(r.content)\n",
    "g = gdal.Open(\"lc_h17v03_wgs84.tif\")\n",
    "proj = g.GetProjectionRef()\n",
    "geoT = g.GetGeoTransform()\n",
    "xs = []\n",
    "ys = []\n",
    "for x,y in [ [0, 0], [0, g.RasterYSize], [g.RasterXSize, g.RasterYSize], [g.RasterXSize, 0]]:\n",
    "    xx, yy = gdal.ApplyGeoTransform(geoT, x,y)\n",
    "    xs.append(xx)\n",
    "    ys.append(yy)\n",
    "extent = [min(xs), min(ys), max(xs), max(ys)]\n",
    "xRes = geoT[1]\n",
    "yRes = geoT[-1]\n",
    "nx = g.RasterXSize\n",
    "ny = g.RasterYSize\n",
    "\n",
    "\n",
    "gg = gdal.Rasterize(\"data/lc_h17v03_wgs84_ireland.tif\", \"/vsizip/\" +\n",
    "               \"data/ne_50m_admin_0_countries.zip/ne_50m_admin_0_countries.shp\",\n",
    "                format=\"GTiff\", xRes=xRes, yRes=yRes, where=\"NAME='Ireland'\",\n",
    "                outputBounds=[min(xs), min(ys), max(xs), max(ys)], \n",
    "                width=nx, height=ny, noData=0, burnValues=1)\n",
    "if gg is not None:\n",
    "    print \"Done!\"\n",
    "    \n",
    "mask = gg.ReadAsArray()\n",
    "g = gdal.Open ( \"lc_h17v03_wgs84.tif\" )\n",
    "wgs84 = g.ReadAsArray()\n",
    "\n",
    "fig, axs = plt.subplots(nrows=1, ncols=2, figsize=(13,5))\n",
    "axs[0].imshow(mask, interpolation=\"nearest\")\n",
    "axs[1].imshow((1.*mask)*wgs84, interpolation=\"nearest\", cmap=plt.cm.gist_earth)"
   ]
  },
  {
   "cell_type": "code",
   "execution_count": null,
   "metadata": {},
   "outputs": [],
   "source": []
  }
 ],
 "metadata": {
  "kernelspec": {
   "display_name": "Python 2",
   "language": "python",
   "name": "python2"
  },
  "language_info": {
   "codemirror_mode": {
    "name": "ipython",
    "version": 2
   },
   "file_extension": ".py",
   "mimetype": "text/x-python",
   "name": "python",
   "nbconvert_exporter": "python",
   "pygments_lexer": "ipython2",
   "version": "2.7.13"
  },
  "latex_envs": {
   "LaTeX_envs_menu_present": false,
   "autocomplete": true,
   "bibliofile": "biblio.bib",
   "cite_by": "apalike",
   "current_citInitial": 1,
   "eqLabelWithNumbers": true,
   "eqNumInitial": 1,
   "hotkeys": {
    "equation": "Ctrl-E",
    "itemize": "Ctrl-I"
   },
   "labels_anchors": true,
   "latex_user_defs": false,
   "report_style_numbering": true,
   "user_envs_cfg": false
  },
  "toc": {
   "nav_menu": {},
   "number_sections": true,
   "sideBar": true,
   "skip_h1_title": true,
   "toc_cell": true,
   "toc_position": {},
   "toc_section_display": "block",
   "toc_window_display": false
  }
 },
 "nbformat": 4,
 "nbformat_minor": 1
}
